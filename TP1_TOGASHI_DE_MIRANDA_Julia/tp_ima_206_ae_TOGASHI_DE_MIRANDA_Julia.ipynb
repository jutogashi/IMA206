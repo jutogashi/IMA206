{
  "nbformat": 4,
  "nbformat_minor": 0,
  "metadata": {
    "colab": {
      "name": "tp_ima_206_ae_TOGASHI_DE_MIRANDA_Julia.ipynb",
      "provenance": [],
      "collapsed_sections": []
    },
    "kernelspec": {
      "name": "python3",
      "display_name": "Python 3"
    },
    "language_info": {
      "name": "python"
    },
    "accelerator": "GPU"
  },
  "cells": [
    {
      "cell_type": "markdown",
      "metadata": {
        "id": "TdpPHz2Lp6VD"
      },
      "source": [
        "# TP Coding an autoencoder in tensorflow/keras\n",
        "\n",
        "Author : Alasdair Newson\n",
        "\n",
        "alasdair.newson@telecom-paris.fr\n",
        "\n",
        "## Objective:\n",
        "\n",
        "The goal of this TP is to explore autoencoders and variational autoencoders applied to a simple dataset. In this first part, we will look at an autoencoder applied to MNIST.\n",
        "\n",
        "### Your task:\n",
        "You need to add the missing parts in the code (parts between # --- START CODE HERE and # --- END CODE HERE or # FILL IN CODE)\n",
        "\n",
        "First of all, let's load some packages"
      ]
    },
    {
      "cell_type": "code",
      "metadata": {
        "id": "JqNeIJ8Op8Ao"
      },
      "source": [
        "\n",
        "import pdb\n",
        "import matplotlib.pyplot as plt\n",
        "import numpy as np\n",
        "import os\n",
        "\n",
        "from tensorflow.keras.datasets import mnist\n",
        "from tensorflow.keras.layers import Input, Dense, Reshape, Flatten, Dropout, BatchNormalization, Activation, ZeroPadding2D, MaxPooling2D, LeakyReLU\n",
        "from tensorflow.keras.layers import UpSampling2D, Conv2D, Conv2DTranspose\n",
        "from tensorflow.keras.models import Sequential, Model, load_model\n",
        "from tensorflow.keras.optimizers import Adam\n"
      ],
      "execution_count": 1,
      "outputs": []
    },
    {
      "cell_type": "markdown",
      "metadata": {
        "id": "Hyj5dj_eui9D"
      },
      "source": [
        "First, we define a function to load the mnist dataset."
      ]
    },
    {
      "cell_type": "code",
      "metadata": {
        "id": "4YPLKlPrufSk"
      },
      "source": [
        "def load_data():\n",
        "  (X_train, Y_train_scalar), (X_test, Y_test_scalar) = mnist.load_data()\n",
        "\n",
        "  n_max = 10000\n",
        "  X_train = X_train[0:n_max,:,:]\n",
        "  X_test = X_test[0:n_max,:,:]\n",
        "  Y_train_scalar = Y_train_scalar[0:n_max]\n",
        "  Y_test_scalar = Y_test_scalar[0:n_max]\n",
        "\n",
        "  # normalise images between 0 and 1\n",
        "  X_train = X_train/255.0\n",
        "  X_test = X_test/255.0\n",
        "  #add a channel dimension, if need be (for mnist data)\n",
        "  if(X_train.ndim ==3):\n",
        "    X_train = np.expand_dims(X_train, axis=3)\n",
        "    X_test = np.expand_dims(X_test, axis=3)\n",
        "  return X_train,X_test"
      ],
      "execution_count": 2,
      "outputs": []
    },
    {
      "cell_type": "markdown",
      "metadata": {
        "id": "t-bkK4ktwfvC"
      },
      "source": [
        "Now, we define the general parameters of the autoencoder"
      ]
    },
    {
      "cell_type": "code",
      "metadata": {
        "id": "mD56EDzbvUxq",
        "colab": {
          "base_uri": "https://localhost:8080/"
        },
        "outputId": "2b1c0f58-5a2d-4ba9-94fc-38bb5fe25784"
      },
      "source": [
        "X_train,X_test = load_data()\n",
        "\n",
        "# autoencoder parameters\n",
        "optimizer = Adam(0.01, 0.5) #\n",
        "img_rows = X_train.shape[1]\n",
        "img_cols = X_train.shape[2]\n",
        "img_channels = X_train.shape[3]\n",
        "img_size = X_train.shape[1] * X_train.shape[2] * X_train.shape[3]\n",
        "img_shape = (img_rows, img_cols, img_channels)\n",
        "z_dim = 10\n",
        "batch_size = 64\n",
        "n_epochs = 40"
      ],
      "execution_count": 3,
      "outputs": [
        {
          "output_type": "stream",
          "text": [
            "Downloading data from https://storage.googleapis.com/tensorflow/tf-keras-datasets/mnist.npz\n",
            "11493376/11490434 [==============================] - 0s 0us/step\n"
          ],
          "name": "stdout"
        }
      ]
    },
    {
      "cell_type": "markdown",
      "metadata": {
        "id": "6jLa2-jQwxSI"
      },
      "source": [
        "Now, define the autoencoder architecture. In the first part, we will use the following MLP architecture :\n",
        "\n",
        "Encoder :\n",
        "- Flatten input\n",
        "- Dense layer, output size z_dim\n",
        "- Leaky ReLU, with $\\alpha=0.2$\n",
        "\n",
        "Decoder :\n",
        "- Dense layer, output size 784\n",
        "- Sigmoid Activation\n",
        "- Reshape, to size $28\\times 28\\times 1$\n",
        "\n",
        "For the Reshape operation, use a ```Reshape``` layer"
      ]
    },
    {
      "cell_type": "code",
      "metadata": {
        "id": "5fKIM5x0pxXR"
      },
      "source": [
        "n_pixels = img_rows*img_cols*img_channels\n",
        "\n",
        "#BEGIN FILL IN CODE\n",
        "ae_model = Sequential() \n",
        "ae_model.add(Input(shape=(28,28,1)))\n",
        "ae_model.add(Flatten())\n",
        "ae_model.add(Dense(z_dim))\n",
        "ae_model.add(LeakyReLU(alpha=0.2))\n",
        "ae_model.add(Dense(784, activation=\"sigmoid\"))\n",
        "ae_model.add(Reshape((28,28,1)))\n",
        "#END FILL IN CODE"
      ],
      "execution_count": 4,
      "outputs": []
    },
    {
      "cell_type": "markdown",
      "metadata": {
        "id": "-659aM36xvXX"
      },
      "source": [
        "Now, display the model (summary) and compile it. Use the binary cross-entropy loss, since we are in the case of MNIST."
      ]
    },
    {
      "cell_type": "code",
      "metadata": {
        "id": "wfqX6Brlxjyi",
        "colab": {
          "base_uri": "https://localhost:8080/"
        },
        "outputId": "ab83a493-f763-4b45-b5db-364e0d6d6b99"
      },
      "source": [
        "# Build and compile the discriminator\n",
        "# BEGIN FILL IN CODE\n",
        "\n",
        "# display model\n",
        "ae_model.summary()\n",
        "\n",
        "# compile model\n",
        "ae_model.compile(loss='binary_crossentropy', optimizer='adam',metrics=[\"accuracy\"])\n",
        "\n",
        "\n",
        "# END FILL IN CODE"
      ],
      "execution_count": 6,
      "outputs": [
        {
          "output_type": "stream",
          "text": [
            "Model: \"sequential\"\n",
            "_________________________________________________________________\n",
            "Layer (type)                 Output Shape              Param #   \n",
            "=================================================================\n",
            "flatten (Flatten)            (None, 784)               0         \n",
            "_________________________________________________________________\n",
            "dense (Dense)                (None, 10)                7850      \n",
            "_________________________________________________________________\n",
            "leaky_re_lu (LeakyReLU)      (None, 10)                0         \n",
            "_________________________________________________________________\n",
            "dense_1 (Dense)              (None, 784)               8624      \n",
            "_________________________________________________________________\n",
            "reshape (Reshape)            (None, 28, 28, 1)         0         \n",
            "=================================================================\n",
            "Total params: 16,474\n",
            "Trainable params: 16,474\n",
            "Non-trainable params: 0\n",
            "_________________________________________________________________\n"
          ],
          "name": "stdout"
        }
      ]
    },
    {
      "cell_type": "markdown",
      "metadata": {
        "id": "w3EbmswSzJdK"
      },
      "source": [
        "We define a function to carry out testing on the autoencoder model"
      ]
    },
    {
      "cell_type": "code",
      "metadata": {
        "id": "T8jXjdRyzMy2"
      },
      "source": [
        "\t\n",
        "def test_images(ae_model, test_data):\n",
        "  n_images = 5\n",
        "  idx = np.random.randint(0, test_data.shape[0], n_images)\n",
        "  test_imgs = test_data[idx,:,:,:]\n",
        "\n",
        "  #get output images\n",
        "  output_imgs = ae_model.predict( test_imgs )\n",
        "  \n",
        "  r = 2\n",
        "  c = n_images\n",
        "  fig, axs = plt.subplots(r, c)\n",
        "  for j in range(c):\n",
        "    #black and white images\n",
        "    axs[0,j].imshow(test_imgs[j, :,:,0], cmap='gray')\n",
        "    axs[0,j].axis('off')\n",
        "    axs[1,j].imshow(output_imgs[j, :,:,0], cmap='gray')\n",
        "    axs[1,j].axis('off')\n",
        "  plt.show()"
      ],
      "execution_count": 7,
      "outputs": []
    },
    {
      "cell_type": "markdown",
      "metadata": {
        "id": "zO9ATQEiyr3b"
      },
      "source": [
        "### Train the model\n",
        "\n",
        "Now, train the model on the mnist dataset."
      ]
    },
    {
      "cell_type": "code",
      "metadata": {
        "id": "sUXHCtvW2iQ0",
        "colab": {
          "base_uri": "https://localhost:8080/",
          "height": 1000
        },
        "outputId": "883ffa10-82c4-4934-b0a5-1ba07d080a2e"
      },
      "source": [
        "# BEGIN FILL IN CODE\n",
        "ae_model.fit(X_train,X_train, epochs=n_epochs, batch_size=batch_size)\n",
        "\n",
        "# END FILL IN CODE\n",
        "test_images(ae_model, X_test)"
      ],
      "execution_count": 8,
      "outputs": [
        {
          "output_type": "stream",
          "text": [
            "Epoch 1/40\n",
            "157/157 [==============================] - 4s 2ms/step - loss: 0.4957 - accuracy: 0.6951\n",
            "Epoch 2/40\n",
            "157/157 [==============================] - 0s 2ms/step - loss: 0.2618 - accuracy: 0.7935\n",
            "Epoch 3/40\n",
            "157/157 [==============================] - 0s 2ms/step - loss: 0.2374 - accuracy: 0.7931\n",
            "Epoch 4/40\n",
            "157/157 [==============================] - 0s 2ms/step - loss: 0.2163 - accuracy: 0.7926\n",
            "Epoch 5/40\n",
            "157/157 [==============================] - 0s 2ms/step - loss: 0.1995 - accuracy: 0.7958\n",
            "Epoch 6/40\n",
            "157/157 [==============================] - 0s 2ms/step - loss: 0.1906 - accuracy: 0.7969\n",
            "Epoch 7/40\n",
            "157/157 [==============================] - 0s 2ms/step - loss: 0.1828 - accuracy: 0.7987\n",
            "Epoch 8/40\n",
            "157/157 [==============================] - 0s 2ms/step - loss: 0.1789 - accuracy: 0.7989\n",
            "Epoch 9/40\n",
            "157/157 [==============================] - 0s 2ms/step - loss: 0.1748 - accuracy: 0.8004\n",
            "Epoch 10/40\n",
            "157/157 [==============================] - 0s 2ms/step - loss: 0.1708 - accuracy: 0.8010\n",
            "Epoch 11/40\n",
            "157/157 [==============================] - 0s 2ms/step - loss: 0.1678 - accuracy: 0.8014\n",
            "Epoch 12/40\n",
            "157/157 [==============================] - 0s 2ms/step - loss: 0.1673 - accuracy: 0.8011\n",
            "Epoch 13/40\n",
            "157/157 [==============================] - 0s 2ms/step - loss: 0.1661 - accuracy: 0.8010\n",
            "Epoch 14/40\n",
            "157/157 [==============================] - 0s 2ms/step - loss: 0.1639 - accuracy: 0.8026\n",
            "Epoch 15/40\n",
            "157/157 [==============================] - 0s 2ms/step - loss: 0.1630 - accuracy: 0.8025\n",
            "Epoch 16/40\n",
            "157/157 [==============================] - 0s 2ms/step - loss: 0.1630 - accuracy: 0.8023\n",
            "Epoch 17/40\n",
            "157/157 [==============================] - 0s 2ms/step - loss: 0.1622 - accuracy: 0.8028\n",
            "Epoch 18/40\n",
            "157/157 [==============================] - 0s 2ms/step - loss: 0.1618 - accuracy: 0.8026\n",
            "Epoch 19/40\n",
            "157/157 [==============================] - 0s 2ms/step - loss: 0.1614 - accuracy: 0.8025\n",
            "Epoch 20/40\n",
            "157/157 [==============================] - 0s 2ms/step - loss: 0.1607 - accuracy: 0.8031\n",
            "Epoch 21/40\n",
            "157/157 [==============================] - 0s 2ms/step - loss: 0.1604 - accuracy: 0.8030\n",
            "Epoch 22/40\n",
            "157/157 [==============================] - 0s 2ms/step - loss: 0.1600 - accuracy: 0.8027\n",
            "Epoch 23/40\n",
            "157/157 [==============================] - 0s 2ms/step - loss: 0.1594 - accuracy: 0.8033\n",
            "Epoch 24/40\n",
            "157/157 [==============================] - 0s 2ms/step - loss: 0.1592 - accuracy: 0.8028\n",
            "Epoch 25/40\n",
            "157/157 [==============================] - 0s 2ms/step - loss: 0.1590 - accuracy: 0.8023\n",
            "Epoch 26/40\n",
            "157/157 [==============================] - 0s 2ms/step - loss: 0.1588 - accuracy: 0.8035\n",
            "Epoch 27/40\n",
            "157/157 [==============================] - 0s 2ms/step - loss: 0.1572 - accuracy: 0.8031\n",
            "Epoch 28/40\n",
            "157/157 [==============================] - 0s 2ms/step - loss: 0.1567 - accuracy: 0.8041\n",
            "Epoch 29/40\n",
            "157/157 [==============================] - 0s 2ms/step - loss: 0.1576 - accuracy: 0.8036\n",
            "Epoch 30/40\n",
            "157/157 [==============================] - 0s 2ms/step - loss: 0.1556 - accuracy: 0.8051\n",
            "Epoch 31/40\n",
            "157/157 [==============================] - 0s 2ms/step - loss: 0.1558 - accuracy: 0.8041\n",
            "Epoch 32/40\n",
            "157/157 [==============================] - 0s 2ms/step - loss: 0.1559 - accuracy: 0.8051\n",
            "Epoch 33/40\n",
            "157/157 [==============================] - 0s 2ms/step - loss: 0.1555 - accuracy: 0.8044\n",
            "Epoch 34/40\n",
            "157/157 [==============================] - 0s 2ms/step - loss: 0.1554 - accuracy: 0.8048\n",
            "Epoch 35/40\n",
            "157/157 [==============================] - 0s 2ms/step - loss: 0.1555 - accuracy: 0.8039\n",
            "Epoch 36/40\n",
            "157/157 [==============================] - 0s 2ms/step - loss: 0.1554 - accuracy: 0.8044\n",
            "Epoch 37/40\n",
            "157/157 [==============================] - 0s 2ms/step - loss: 0.1549 - accuracy: 0.8044\n",
            "Epoch 38/40\n",
            "157/157 [==============================] - 0s 2ms/step - loss: 0.1545 - accuracy: 0.8045\n",
            "Epoch 39/40\n",
            "157/157 [==============================] - 0s 2ms/step - loss: 0.1547 - accuracy: 0.8037\n",
            "Epoch 40/40\n",
            "157/157 [==============================] - 0s 2ms/step - loss: 0.1544 - accuracy: 0.8043\n"
          ],
          "name": "stdout"
        },
        {
          "output_type": "display_data",
          "data": {
            "image/png": "[encoded data removed]",
            "text/plain": [
              "<Figure size 432x288 with 10 Axes>"
            ]
          },
          "metadata": {
            "tags": [],
            "needs_background": "light"
          }
        }
      ]
    },
    {
      "cell_type": "markdown",
      "metadata": {
        "id": "ktuGdSig5qC7"
      },
      "source": [
        "## Convolutional model\n",
        "\n",
        "Now, we are going to implement a convolutional architecture (with two dense layers in the middle) and compare the results. Implement the following architecture :\n",
        "\n",
        "Encoder :\n",
        "- 2D convolution, filter size $3\\times3$, 8 filters, stride=(2,2), padding=\"SAME\"\n",
        "- LeakyReLU ($\\alpha=0.2$)\n",
        "- 2D convolution, filter size $3\\times3$, 4 filters, stride=(2,2), padding=\"SAME\"\n",
        "- LeakyReLU ($\\alpha=0.2$)\n",
        "- Flatten tensor\n",
        "- Dense layer, output size z_dim\n",
        "\n",
        "Decoder :\n",
        "- Dense layer, output size 196\n",
        "- LeakyReLU ($\\alpha=0.2$)\n",
        "- Reshape $(7\\times7\\times 4)$\n",
        "- 2D transposed convolution, filter size $3\\times3$, 8 filters, stride=(2,2), padding=\"SAME\"\n",
        "- LeakyReLU ($\\alpha=0.2$)\n",
        "- 2D transposed convolution, filter size $3\\times3$, 1 filter, stride=(2,2), padding=\"SAME\"\n",
        "- Sigmoid activation\n",
        "\n",
        "The sizes of the tensors in the encoder and the decoder should be :\n",
        "- $28 \\times 28 \\times 1$ -> $14 \\times 14 \\times 8$ -> $7 \\times 7 \\times 4$ -> z_dim\n",
        "- z_dim -> $7 \\times 7 \\times 4$ -> $14 \\times 14 \\times 8$ -> $28 \\times 28 \\times 1$\n",
        "\n",
        "Use the previous code as an example, and implement and train the architecture."
      ]
    },
    {
      "cell_type": "code",
      "metadata": {
        "id": "uWuikdCrvZ1V",
        "colab": {
          "base_uri": "https://localhost:8080/",
          "height": 1000
        },
        "outputId": "0a63e22e-4651-4894-9d3e-8e9318f06cac"
      },
      "source": [
        "#BEGIN FILL IN CODE\n",
        "\n",
        "ae_model2 = Sequential() \n",
        "ae_model2.add(Conv2D(filters=8, kernel_size=(3,3),strides=(2, 2), padding=\"same\", input_shape=(28,28,1)))\n",
        "ae_model2.add(LeakyReLU(alpha=0.2))\n",
        "ae_model2.add(Conv2D(filters=4, kernel_size=(3,3),strides=(2, 2), padding=\"same\"))\n",
        "ae_model2.add(LeakyReLU(alpha=0.2))\n",
        "ae_model2.add(Flatten())\n",
        "ae_model2.add(Dense(z_dim))\n",
        "\n",
        "ae_model2.add(Dense(196))\n",
        "ae_model2.add(LeakyReLU(alpha=0.2))\n",
        "ae_model2.add(Reshape((7,7,4)))\n",
        "ae_model2.add(Conv2DTranspose(filters=8, kernel_size=(3,3),strides=(2, 2), padding=\"same\"))\n",
        "ae_model2.add(LeakyReLU(alpha=0.2))\n",
        "ae_model2.add(Conv2DTranspose(filters=1, kernel_size=(3,3),strides=(2, 2), padding=\"same\",activation=\"sigmoid\"))\n",
        "\n",
        "\n",
        "# display model\n",
        "ae_model2.summary()\n",
        "\n",
        "# compile model\n",
        "ae_model2.compile(loss='binary_crossentropy', optimizer='adam',metrics=[\"accuracy\"])\n",
        "\n",
        "ae_model2.fit(X_train,X_train, epochs=n_epochs, batch_size=batch_size)\n",
        "test_images(ae_model2, X_test)\n",
        "\n",
        "#END FILL IN CODE"
      ],
      "execution_count": 15,
      "outputs": [
        {
          "output_type": "stream",
          "text": [
            "Model: \"sequential_7\"\n",
            "_________________________________________________________________\n",
            "Layer (type)                 Output Shape              Param #   \n",
            "=================================================================\n",
            "conv2d_10 (Conv2D)           (None, 14, 14, 8)         80        \n",
            "_________________________________________________________________\n",
            "leaky_re_lu_19 (LeakyReLU)   (None, 14, 14, 8)         0         \n",
            "_________________________________________________________________\n",
            "conv2d_11 (Conv2D)           (None, 7, 7, 4)           292       \n",
            "_________________________________________________________________\n",
            "leaky_re_lu_20 (LeakyReLU)   (None, 7, 7, 4)           0         \n",
            "_________________________________________________________________\n",
            "flatten_6 (Flatten)          (None, 196)               0         \n",
            "_________________________________________________________________\n",
            "dense_12 (Dense)             (None, 10)                1970      \n",
            "_________________________________________________________________\n",
            "dense_13 (Dense)             (None, 196)               2156      \n",
            "_________________________________________________________________\n",
            "leaky_re_lu_21 (LeakyReLU)   (None, 196)               0         \n",
            "_________________________________________________________________\n",
            "reshape_6 (Reshape)          (None, 7, 7, 4)           0         \n",
            "_________________________________________________________________\n",
            "conv2d_transpose_6 (Conv2DTr (None, 14, 14, 8)         296       \n",
            "_________________________________________________________________\n",
            "leaky_re_lu_22 (LeakyReLU)   (None, 14, 14, 8)         0         \n",
            "_________________________________________________________________\n",
            "conv2d_transpose_7 (Conv2DTr (None, 28, 28, 1)         73        \n",
            "=================================================================\n",
            "Total params: 4,867\n",
            "Trainable params: 4,867\n",
            "Non-trainable params: 0\n",
            "_________________________________________________________________\n",
            "Epoch 1/40\n",
            "157/157 [==============================] - 1s 4ms/step - loss: 0.5579 - accuracy: 0.7518\n",
            "Epoch 2/40\n",
            "157/157 [==============================] - 1s 3ms/step - loss: 0.2645 - accuracy: 0.8013\n",
            "Epoch 3/40\n",
            "157/157 [==============================] - 1s 3ms/step - loss: 0.2197 - accuracy: 0.7948\n",
            "Epoch 4/40\n",
            "157/157 [==============================] - 1s 3ms/step - loss: 0.1806 - accuracy: 0.7975\n",
            "Epoch 5/40\n",
            "157/157 [==============================] - 1s 3ms/step - loss: 0.1653 - accuracy: 0.8000\n",
            "Epoch 6/40\n",
            "157/157 [==============================] - 1s 3ms/step - loss: 0.1587 - accuracy: 0.8012\n",
            "Epoch 7/40\n",
            "157/157 [==============================] - 1s 3ms/step - loss: 0.1561 - accuracy: 0.8010\n",
            "Epoch 8/40\n",
            "157/157 [==============================] - 1s 3ms/step - loss: 0.1542 - accuracy: 0.8003\n",
            "Epoch 9/40\n",
            "157/157 [==============================] - 1s 3ms/step - loss: 0.1518 - accuracy: 0.8012\n",
            "Epoch 10/40\n",
            "157/157 [==============================] - 1s 3ms/step - loss: 0.1497 - accuracy: 0.8020\n",
            "Epoch 11/40\n",
            "157/157 [==============================] - 1s 3ms/step - loss: 0.1496 - accuracy: 0.8013\n",
            "Epoch 12/40\n",
            "157/157 [==============================] - 1s 3ms/step - loss: 0.1478 - accuracy: 0.8020\n",
            "Epoch 13/40\n",
            "157/157 [==============================] - 1s 3ms/step - loss: 0.1465 - accuracy: 0.8020\n",
            "Epoch 14/40\n",
            "157/157 [==============================] - 1s 3ms/step - loss: 0.1465 - accuracy: 0.8012\n",
            "Epoch 15/40\n",
            "157/157 [==============================] - 1s 3ms/step - loss: 0.1439 - accuracy: 0.8036\n",
            "Epoch 16/40\n",
            "157/157 [==============================] - 1s 3ms/step - loss: 0.1429 - accuracy: 0.8034\n",
            "Epoch 17/40\n",
            "157/157 [==============================] - 1s 3ms/step - loss: 0.1435 - accuracy: 0.8029\n",
            "Epoch 18/40\n",
            "157/157 [==============================] - 1s 3ms/step - loss: 0.1426 - accuracy: 0.8029\n",
            "Epoch 19/40\n",
            "157/157 [==============================] - 1s 3ms/step - loss: 0.1414 - accuracy: 0.8036\n",
            "Epoch 20/40\n",
            "157/157 [==============================] - 1s 3ms/step - loss: 0.1403 - accuracy: 0.8041\n",
            "Epoch 21/40\n",
            "157/157 [==============================] - 1s 3ms/step - loss: 0.1407 - accuracy: 0.8036\n",
            "Epoch 22/40\n",
            "157/157 [==============================] - 1s 3ms/step - loss: 0.1400 - accuracy: 0.8047\n",
            "Epoch 23/40\n",
            "157/157 [==============================] - 1s 4ms/step - loss: 0.1398 - accuracy: 0.8049\n",
            "Epoch 24/40\n",
            "157/157 [==============================] - 1s 3ms/step - loss: 0.1398 - accuracy: 0.8042\n",
            "Epoch 25/40\n",
            "157/157 [==============================] - 1s 3ms/step - loss: 0.1394 - accuracy: 0.8037\n",
            "Epoch 26/40\n",
            "157/157 [==============================] - 1s 4ms/step - loss: 0.1391 - accuracy: 0.8043\n",
            "Epoch 27/40\n",
            "157/157 [==============================] - 1s 4ms/step - loss: 0.1385 - accuracy: 0.8053\n",
            "Epoch 28/40\n",
            "157/157 [==============================] - 1s 3ms/step - loss: 0.1379 - accuracy: 0.8055\n",
            "Epoch 29/40\n",
            "157/157 [==============================] - 1s 3ms/step - loss: 0.1379 - accuracy: 0.8046\n",
            "Epoch 30/40\n",
            "157/157 [==============================] - 1s 4ms/step - loss: 0.1372 - accuracy: 0.8052\n",
            "Epoch 31/40\n",
            "157/157 [==============================] - 1s 4ms/step - loss: 0.1373 - accuracy: 0.8051\n",
            "Epoch 32/40\n",
            "157/157 [==============================] - 1s 3ms/step - loss: 0.1375 - accuracy: 0.8047\n",
            "Epoch 33/40\n",
            "157/157 [==============================] - 1s 3ms/step - loss: 0.1367 - accuracy: 0.8051\n",
            "Epoch 34/40\n",
            "157/157 [==============================] - 1s 4ms/step - loss: 0.1366 - accuracy: 0.8050\n",
            "Epoch 35/40\n",
            "157/157 [==============================] - 1s 3ms/step - loss: 0.1369 - accuracy: 0.8047\n",
            "Epoch 36/40\n",
            "157/157 [==============================] - 1s 3ms/step - loss: 0.1369 - accuracy: 0.8042\n",
            "Epoch 37/40\n",
            "157/157 [==============================] - 1s 4ms/step - loss: 0.1361 - accuracy: 0.8052\n",
            "Epoch 38/40\n",
            "157/157 [==============================] - 1s 3ms/step - loss: 0.1351 - accuracy: 0.8063\n",
            "Epoch 39/40\n",
            "157/157 [==============================] - 1s 4ms/step - loss: 0.1356 - accuracy: 0.8050\n",
            "Epoch 40/40\n",
            "157/157 [==============================] - 1s 3ms/step - loss: 0.1354 - accuracy: 0.8053\n"
          ],
          "name": "stdout"
        },
        {
          "output_type": "display_data",
          "data": {
            "image/png": "[encoded data removed]",
            "text/plain": [
              "<Figure size 432x288 with 10 Axes>"
            ]
          },
          "metadata": {
            "tags": [],
            "needs_background": "light"
          }
        }
      ]
    },
    {
      "cell_type": "markdown",
      "metadata": {
        "id": "WWs6uhIa-hko"
      },
      "source": [
        "Are the performances better with this model ? Compare the number of parameters in the MLP and convolutional case"
      ]
    },
    {
      "cell_type": "markdown",
      "metadata": {
        "id": "JjIFIOq3kusZ"
      },
      "source": [
        "**Answer:** The results are better in a sense that they all look more like digits.  For example, in the MLP the digit 5 turned into something recognizable. But at the same time, the results of the CNN aren’t great, an 8 turned into something closer to a 3, and a 4 to a 9.\n",
        "\n",
        "\n",
        "In the MLP we have a total of 16,474 parameters, while for the CNN 4,867. This is expected and shows how the number of parameters grows fast in the MLP given the size of the image (the MNIST images are relatively small).\n"
      ]
    },
    {
      "cell_type": "markdown",
      "metadata": {
        "id": "o5TmOfau_dhZ"
      },
      "source": [
        "## Denoising autoencoder\n",
        "\n",
        "In this part, we take the previous architecture, but now we implement a __denoising__ autoencoder. For this, we simply add Gaussian noise to the input during training, and require the autoencoder to reconstruct the non-noisy ground truth. You can do add the noise using the following function :\n",
        "- np.random.normal(loc=0.0, scale=1.0, size=curr_batch.shape)\n",
        "\n",
        "First, we modify the ```test_images``` function to take into account a noisy input."
      ]
    },
    {
      "cell_type": "code",
      "metadata": {
        "id": "o6iYCO0S_5I_"
      },
      "source": [
        "\n",
        "def test_images(ae_model, test_data, sigma):\n",
        "  n_images = 5\n",
        "  idx = np.random.randint(0, test_data.shape[0], n_images)\n",
        "  test_imgs = test_data[idx,:,:,:]\n",
        "\n",
        "  #get output images\n",
        "  test_imgs = np.clip(test_imgs + sigma * np.random.normal(loc=0.0, scale=1.0, size=test_imgs.shape),0.,1.)\n",
        "  output_imgs = ae_model.predict( test_imgs )\n",
        "  \n",
        "  r = 2\n",
        "  c = n_images\n",
        "  fig, axs = plt.subplots(r, c)\n",
        "  for j in range(c):\n",
        "    #black and white images\n",
        "    axs[0,j].imshow(test_imgs[j, :,:,0], cmap='gray')\n",
        "    axs[0,j].axis('off')\n",
        "    axs[1,j].imshow(output_imgs[j, :,:,0], cmap='gray')\n",
        "    axs[1,j].axis('off')\n",
        "  plt.show()"
      ],
      "execution_count": 16,
      "outputs": []
    },
    {
      "cell_type": "markdown",
      "metadata": {
        "id": "nbRhMZv6_5y4"
      },
      "source": [
        "Now, use the previous codes to implement the denoising autoencoder. Use either the MLP architecture or the convolutional architecture.\n",
        "\n",
        "__IMPORTANT NOTE__ For this part of the TP, you will have to use a custom training process (to add the noise to a batch). For this, you can use the following function :\n",
        "\n",
        "- loss_value = ae_model.train_on_batch(X,Y)\n",
        "\n",
        "This allows you to create a custom batch. X should be the noisy batch, and Y should be the non-noisy batch\n",
        "\n",
        "In this case, to simplify things, __do not worry about carrying out the complete batch over the database__, simply iterate n_iters times, and select a random batch at each iteration. To select a random set (of size batch_size) of integers between 0 and X_train.shape, use :\n",
        "\n",
        "- np.random.randint(0, X_train.shape[0], batch_size)\n",
        "\n",
        "Use sigma = 25.0/255.0"
      ]
    },
    {
      "cell_type": "code",
      "metadata": {
        "id": "MUU7ky7D_bV7",
        "colab": {
          "base_uri": "https://localhost:8080/",
          "height": 381
        },
        "outputId": "33ae6192-03db-43ab-d6bb-399305cb39ae"
      },
      "source": [
        "\n",
        "sigma = 25.0/255.0\n",
        "n_iters = 1000\n",
        "display_loss_step = 100\n",
        "\n",
        "#BEGIN FILL IN CODE\n",
        "for i in range(n_iters):\n",
        "  curr_batch = X_train[np.random.randint(0, X_train.shape[0], batch_size),:,:,:]\n",
        "  batch_noise = np.clip(curr_batch +  sigma * np.random.normal(loc=0.0, scale=1, size=curr_batch.shape),0.,1.)\n",
        "  loss_value = ae_model2.train_on_batch(batch_noise,curr_batch)\n",
        "  if (i%display_loss_step==0): print(loss_value )\n",
        "\n",
        "test_images(ae_model2, X_test,sigma)\n",
        "# END FILL IN CODE"
      ],
      "execution_count": 22,
      "outputs": [
        {
          "output_type": "stream",
          "text": [
            "[0.1308562159538269, 0.8092315196990967]\n",
            "[0.13907359540462494, 0.7993064522743225]\n",
            "[0.1386515349149704, 0.7909757494926453]\n",
            "[0.12201698124408722, 0.8186782598495483]\n",
            "[0.1438605785369873, 0.7935865521430969]\n",
            "[0.1314256191253662, 0.7988680005073547]\n",
            "[0.14212405681610107, 0.8008211255073547]\n",
            "[0.132071852684021, 0.8048070669174194]\n",
            "[0.12610872089862823, 0.8009207844734192]\n",
            "[0.12701579928398132, 0.8103874325752258]\n"
          ],
          "name": "stdout"
        },
        {
          "output_type": "display_data",
          "data": {
            "image/png": "[encoded data removed]",
            "text/plain": [
              "<Figure size 432x288 with 10 Axes>"
            ]
          },
          "metadata": {
            "tags": [],
            "needs_background": "light"
          }
        }
      ]
    }
  ]
}